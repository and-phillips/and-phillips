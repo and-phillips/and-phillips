{
  "nbformat": 4,
  "nbformat_minor": 0,
  "metadata": {
    "colab": {
      "provenance": [],
      "authorship_tag": "ABX9TyMbUq4Ol11cYYFx+SD0XhQl",
      "include_colab_link": true
    },
    "kernelspec": {
      "name": "python3",
      "display_name": "Python 3"
    },
    "language_info": {
      "name": "python"
    }
  },
  "cells": [
    {
      "cell_type": "markdown",
      "metadata": {
        "id": "view-in-github",
        "colab_type": "text"
      },
      "source": [
        "<a href=\"https://colab.research.google.com/github/and-phillips/and-phillips/blob/main/Analise_de_dados_COVID19.ipynb\" target=\"_parent\"><img src=\"https://colab.research.google.com/assets/colab-badge.svg\" alt=\"Open In Colab\"/></a>"
      ]
    },
    {
      "cell_type": "code",
      "execution_count": 2,
      "metadata": {
        "id": "kPmjA24Dq__u"
      },
      "outputs": [],
      "source": [
        "import pandas as pd"
      ]
    },
    {
      "cell_type": "markdown",
      "source": [
        "Correlação de índice de rigidez nas restrições tem uma taxa de mortalidade menor?\n",
        "\n"
      ],
      "metadata": {
        "id": "YoLcac87Obfl"
      }
    },
    {
      "cell_type": "code",
      "source": [
        "deaths_df = pd.read_csv('/content/COVID DEATHS.csv')\n",
        "stringency_df = pd.read_csv('/content/COVID_VACCINATIONS.csv')\n",
        "\n",
        "\n",
        "deaths_columns = ['iso_code', 'location', 'date', 'total_deaths', 'population']\n",
        "stringency_columns = ['iso_code', 'location', 'date', 'stringency_index']\n",
        "\n",
        "deaths_data = deaths_df[deaths_columns]\n",
        "stringency_data = stringency_df[stringency_columns]\n",
        "\n",
        "\n",
        "combined_data = pd.merge(deaths_data, stringency_data, on=['iso_code', 'location', 'date'])\n",
        "\n",
        "\n",
        "average_mortality_stringency = combined_data.groupby('location').agg({\n",
        "    'total_deaths': 'sum',\n",
        "    'population': 'max',\n",
        "    'stringency_index': 'mean'\n",
        "}).reset_index()\n",
        "\n",
        "\n",
        "average_mortality_stringency['mortality_per_million'] = (average_mortality_stringency['total_deaths'] / average_mortality_stringency['population']) * 1000000\n",
        "\n",
        "correlation = average_mortality_stringency['stringency_index'].corr(average_mortality_stringency['mortality_per_million'])\n",
        "formatted_correlation = \"{:.2f}\".format(correlation)\n",
        "print(f\"Correlação entre índice de rigor e mortalidade por milhão: {formatted_correlation}%\")\n"
      ],
      "metadata": {
        "colab": {
          "base_uri": "https://localhost:8080/"
        },
        "id": "7q1VqlVZM3tP",
        "outputId": "77363689-4ba6-4efd-865f-eccddedbeb23"
      },
      "execution_count": 3,
      "outputs": [
        {
          "output_type": "stream",
          "name": "stdout",
          "text": [
            "Correlação entre índice de rigor e mortalidade por milhão: 0.10%\n"
          ]
        }
      ]
    },
    {
      "cell_type": "markdown",
      "source": [
        "Correlação de pessoas que testaram e de pessoas que tiveram menos casos positivos de Covid-19?"
      ],
      "metadata": {
        "id": "KGn0YqSmOcrr"
      }
    },
    {
      "cell_type": "code",
      "source": [
        "cases_df = pd.read_csv('/content/COVID DEATHS.csv')\n",
        "tests_df = pd.read_csv('/content/COVID_VACCINATIONS.csv')\n",
        "\n",
        "cases_columns = ['iso_code', 'location', 'date', 'total_cases']\n",
        "tests_columns = ['iso_code', 'location', 'date', 'total_tests', 'positive_rate']\n",
        "\n",
        "cases_data = cases_df[cases_columns]\n",
        "tests_data = tests_df[tests_columns]\n",
        "\n",
        "combined_data = pd.merge(cases_data, tests_data, on=['iso_code', 'location', 'date'])\n",
        "\n",
        "correlation = combined_data['total_tests'].corr(combined_data['positive_rate'])\n",
        "formatted_correlation = \"{:.2f}\".format(correlation)\n",
        "print(f\"Correlação entre o total de testes e a taxa de positividade: {formatted_correlation}%\")"
      ],
      "metadata": {
        "colab": {
          "base_uri": "https://localhost:8080/"
        },
        "id": "OCs_y426N7d7",
        "outputId": "955ac125-7d4a-4247-cfa7-8dc96cba6db0"
      },
      "execution_count": 4,
      "outputs": [
        {
          "output_type": "stream",
          "name": "stdout",
          "text": [
            "Correlação entre o total de testes e a taxa de positividade: -0.04%\n"
          ]
        }
      ]
    },
    {
      "cell_type": "markdown",
      "source": [
        "Correlação entre o total de vacinados e o total de doses de reforço aplicados?"
      ],
      "metadata": {
        "id": "Rm0rJRzpPIB0"
      }
    },
    {
      "cell_type": "code",
      "source": [
        "vaccinations_df = pd.read_csv('/content/COVID_VACCINATIONS.csv')\n",
        "\n",
        "\n",
        "vaccinations_columns = ['iso_code', 'location', 'date', 'people_vaccinated', 'total_boosters']\n",
        "\n",
        "vaccinations_data = vaccinations_df[vaccinations_columns]\n",
        "\n",
        "\n",
        "combined_data = vaccinations_data.dropna()\n",
        "\n",
        "combined_data_copy = combined_data.copy()\n",
        "\n",
        "combined_data_copy['total_vaccinated'] = combined_data_copy['people_vaccinated'] + combined_data_copy['total_boosters']\n",
        "\n",
        "correlation = combined_data_copy['total_vaccinated'].corr(combined_data_copy['total_boosters'])\n",
        "\n",
        "formatted_correlation = \"{:.2f}\".format(correlation)\n",
        "print(f\"Correlação entre vacinados totais e reforços totais: {formatted_correlation}%\")"
      ],
      "metadata": {
        "colab": {
          "base_uri": "https://localhost:8080/"
        },
        "id": "moKFRzUVOnNM",
        "outputId": "ac618bb3-bd64-4703-ce5f-d1a6fed88c5b"
      },
      "execution_count": 5,
      "outputs": [
        {
          "output_type": "stream",
          "name": "stdout",
          "text": [
            "Correlação entre vacinados totais e reforços totais: 0.94%\n"
          ]
        }
      ]
    },
    {
      "cell_type": "markdown",
      "source": [
        "A quantidade de dados faltantes  quanto a mortes agrupados por continentes e países."
      ],
      "metadata": {
        "id": "8a9f5HZhPrMy"
      }
    },
    {
      "cell_type": "code",
      "source": [
        "deaths_df = pd.read_csv('/content/COVID DEATHS.csv')\n",
        "\n",
        "deaths_columns = ['iso_code', 'continent', 'location', 'total_deaths']\n",
        "deaths_data = deaths_df[deaths_columns]\n",
        "\n",
        "missing_data_count = deaths_data.groupby(['continent', 'location']).apply(lambda group: group['total_deaths'].isnull().sum()).reset_index(name='missing_count')\n",
        "\n",
        "print(missing_data_count)"
      ],
      "metadata": {
        "colab": {
          "base_uri": "https://localhost:8080/"
        },
        "id": "BdDvreZ9PfSN",
        "outputId": "7734a715-3d04-4610-b65a-524c3272e181"
      },
      "execution_count": 6,
      "outputs": [
        {
          "output_type": "stream",
          "name": "stdout",
          "text": [
            "         continent      location  missing_count\n",
            "0           Africa       Algeria             86\n",
            "1           Africa        Angola            138\n",
            "2           Africa         Benin            115\n",
            "3           Africa      Botswana             83\n",
            "4           Africa  Burkina Faso             78\n",
            "..             ...           ...            ...\n",
            "238  South America      Paraguay             79\n",
            "239  South America          Peru             64\n",
            "240  South America      Suriname             95\n",
            "241  South America       Uruguay             94\n",
            "242  South America     Venezuela             86\n",
            "\n",
            "[243 rows x 3 columns]\n"
          ]
        }
      ]
    },
    {
      "cell_type": "markdown",
      "source": [
        "A taxa de reprodução do vírus é mais intensa em países mais populosos?"
      ],
      "metadata": {
        "id": "k-P06LiAQDrd"
      }
    },
    {
      "cell_type": "code",
      "source": [
        "deaths_df = pd.read_csv('/content/COVID DEATHS.csv')\n",
        "\n",
        "deaths_columns = ['iso_code', 'location', 'date', 'population', 'reproduction_rate']\n",
        "deaths_data = deaths_df[deaths_columns]\n",
        "\n",
        "deaths_data = deaths_data.dropna()\n",
        "\n",
        "correlation = deaths_data['population'].corr(deaths_data['reproduction_rate'])\n",
        "\n",
        "formatted_correlation = \"{:.2f}\".format(correlation)\n",
        "print(f\"Correlação entre população e taxa de reprodução do vírus: {formatted_correlation}%\")"
      ],
      "metadata": {
        "colab": {
          "base_uri": "https://localhost:8080/"
        },
        "id": "vK01WYpTPsXA",
        "outputId": "2843c079-c3f4-4f8f-fc88-d65d3dafb4d5"
      },
      "execution_count": 7,
      "outputs": [
        {
          "output_type": "stream",
          "name": "stdout",
          "text": [
            "Correlação entre população e taxa de reprodução do vírus: 0.05%\n"
          ]
        }
      ]
    },
    {
      "cell_type": "markdown",
      "source": [
        "Qual a relação entre pacientes hospitalizados e quantidade de mortes?"
      ],
      "metadata": {
        "id": "yIw75Ym7QWZ-"
      }
    },
    {
      "cell_type": "code",
      "source": [
        "deaths_df = pd.read_csv('/content/COVID DEATHS.csv')\n",
        "\n",
        "deaths_columns = ['iso_code', 'location', 'date', 'hosp_patients', 'total_deaths']\n",
        "deaths_data = deaths_df[deaths_columns]\n",
        "\n",
        "deaths_data = deaths_data.dropna()\n",
        "\n",
        "correlation = deaths_data['hosp_patients'].corr(deaths_data['total_deaths'])\n",
        "\n",
        "formatted_correlation = \"{:.2f}\".format(correlation)\n",
        "print(f\"Correlação entre hospitalizações e óbitos totais: {formatted_correlation}%\")"
      ],
      "metadata": {
        "colab": {
          "base_uri": "https://localhost:8080/"
        },
        "id": "ldM-BTO0QOOU",
        "outputId": "345a2e5e-4aae-4837-cef7-747ba9b38ab5"
      },
      "execution_count": 8,
      "outputs": [
        {
          "output_type": "stream",
          "name": "stdout",
          "text": [
            "Correlação entre hospitalizações e óbitos totais: 0.61%\n"
          ]
        }
      ]
    },
    {
      "cell_type": "markdown",
      "source": [
        "Qual a relação entre a quantidade de pacientes hospitalizados e quantos desses foram para a UTI?"
      ],
      "metadata": {
        "id": "OhgPqkM6Rs0p"
      }
    },
    {
      "cell_type": "code",
      "source": [
        "\n",
        "deaths_df = pd.read_csv('/content/COVID DEATHS.csv')\n",
        "\n",
        "deaths_columns = ['iso_code', 'location', 'date', 'hosp_patients', 'icu_patients']\n",
        "deaths_data = deaths_df[deaths_columns]\n",
        "\n",
        "deaths_data = deaths_data.dropna()\n",
        "\n",
        "correlation = deaths_data['hosp_patients'].corr(deaths_data['icu_patients'])\n",
        "\n",
        "formatted_correlation = \"{:.2f}\".format(correlation)\n",
        "print(f\"Correlação entre internações e pacientes em UTI: {formatted_correlation}%\")"
      ],
      "metadata": {
        "colab": {
          "base_uri": "https://localhost:8080/"
        },
        "id": "sh81XqFKQbWu",
        "outputId": "d6033ec4-f4b7-49d8-d0b6-d44c74e678a1"
      },
      "execution_count": 9,
      "outputs": [
        {
          "output_type": "stream",
          "name": "stdout",
          "text": [
            "Correlação entre internações e pacientes em UTI: 0.94%\n"
          ]
        }
      ]
    },
    {
      "cell_type": "markdown",
      "source": [
        "Como as taxas de vacinação e mortalidade variam entre os diferentes continentes?"
      ],
      "metadata": {
        "id": "JMkgpX3lSE73"
      }
    },
    {
      "cell_type": "code",
      "source": [
        "deaths_df = pd.read_csv('/content/COVID DEATHS.csv')\n",
        "vaccinations_df = pd.read_csv('/content/COVID_VACCINATIONS.csv')\n",
        "\n",
        "deaths_columns = ['iso_code', 'continent', 'location', 'total_deaths']\n",
        "vaccinations_columns = ['iso_code', 'continent', 'location', 'people_vaccinated_per_hundred']\n",
        "\n",
        "deaths_data = deaths_df[deaths_columns]\n",
        "vaccinations_data = vaccinations_df[vaccinations_columns]\n",
        "\n",
        "deaths_data = deaths_data.dropna()\n",
        "vaccinations_data = vaccinations_data.dropna()\n",
        "\n",
        "grouped_vaccinations = vaccinations_data.groupby('continent')['people_vaccinated_per_hundred'].mean()\n",
        "grouped_deaths = deaths_data.groupby('continent')['total_deaths'].mean()\n",
        "\n",
        "result_df = pd.DataFrame({'Average Vaccination Rate': grouped_vaccinations, 'Average Death Rate': grouped_deaths})\n",
        "\n",
        "print(result_df)"
      ],
      "metadata": {
        "colab": {
          "base_uri": "https://localhost:8080/"
        },
        "id": "IaV3e6VgR7tE",
        "outputId": "07b7247a-f4a7-46c9-b6b9-49217a9c264f"
      },
      "execution_count": 10,
      "outputs": [
        {
          "output_type": "stream",
          "name": "stdout",
          "text": [
            "               Average Vaccination Rate  Average Death Rate\n",
            "continent                                                  \n",
            "Africa                        18.098334         3046.849295\n",
            "Asia                          52.765941        21030.811329\n",
            "Europe                        55.797113        24174.274372\n",
            "North America                 51.274251        26572.533300\n",
            "Oceania                       52.628031          732.107568\n",
            "South America                 58.967139        69076.508588\n"
          ]
        }
      ]
    },
    {
      "cell_type": "markdown",
      "source": [
        "Correlação de pessoas hospitalizadas diminuiu quando o total de vacinação aumentou?"
      ],
      "metadata": {
        "id": "1sCdofrOMsed"
      }
    },
    {
      "cell_type": "code",
      "source": [
        "deaths_df = pd.read_csv('/content/COVID DEATHS.csv')\n",
        "vaccinations_df = pd.read_csv('/content/COVID_VACCINATIONS.csv')\n",
        "\n",
        "\n",
        "deaths_columns = ['iso_code', 'location', 'date', 'hosp_patients']\n",
        "vaccinations_columns = ['iso_code', 'location', 'date', 'total_vaccinations', 'people_vaccinated', 'people_fully_vaccinated']\n",
        "\n",
        "deaths_data = deaths_df[deaths_columns]\n",
        "vaccinations_data = vaccinations_df[vaccinations_columns]\n",
        "\n",
        "combined_data = pd.merge(deaths_data, vaccinations_data, on=['iso_code', 'location', 'date'])\n",
        "\n",
        "correlation = combined_data['hosp_patients'].corr(combined_data['total_vaccinations'])\n",
        "formatted_correlation = \"{:.2f}\".format(correlation)\n",
        "print(f\"Correlação entre hospitalizações e total de vacinações: {formatted_correlation}%\")\n",
        "\n"
      ],
      "metadata": {
        "colab": {
          "base_uri": "https://localhost:8080/"
        },
        "id": "QD3ddeu7IwjW",
        "outputId": "df9d9942-e40f-4280-8050-c900ead90d0e"
      },
      "execution_count": 11,
      "outputs": [
        {
          "output_type": "stream",
          "name": "stdout",
          "text": [
            "Correlação entre hospitalizações e total de vacinações: 0.55%\n"
          ]
        }
      ]
    },
    {
      "cell_type": "markdown",
      "source": [
        "Em qual data ocorreram mais mortes por covid mundialmente?"
      ],
      "metadata": {
        "id": "e4SDa8lLUMMx"
      }
    },
    {
      "cell_type": "code",
      "source": [
        "deaths_df = pd.read_csv('/content/COVID DEATHS.csv')\n",
        "\n",
        "deaths_columns = ['date', 'total_deaths']\n",
        "deaths_data = deaths_df[deaths_columns]\n",
        "\n",
        "daily_deaths = deaths_data.groupby('date')['total_deaths'].sum()\n",
        "\n",
        "max_deaths_date = daily_deaths.idxmax()\n",
        "max_deaths_count = daily_deaths.max()\n",
        "\n",
        "print(f\"A data com mais mortes: {max_deaths_date}\")\n",
        "print(f\"Total de óbitos nessa data: {max_deaths_count}\")"
      ],
      "metadata": {
        "colab": {
          "base_uri": "https://localhost:8080/"
        },
        "id": "SBuYqFYGTX2M",
        "outputId": "67ae3bf6-95d5-4509-e4e6-89b80f97dd0f"
      },
      "execution_count": 12,
      "outputs": [
        {
          "output_type": "stream",
          "name": "stdout",
          "text": [
            "A data com mais mortes: 4/11/2023\n",
            "Total de óbitos nessa data: 28807870.0\n"
          ]
        }
      ]
    },
    {
      "cell_type": "markdown",
      "source": [
        "Qual continente foi mais afetado pelo Covid?"
      ],
      "metadata": {
        "id": "O1Bb0r5iVQIW"
      }
    },
    {
      "cell_type": "code",
      "source": [
        "deaths_df = pd.read_csv('/content/COVID DEATHS.csv')\n",
        "\n",
        "deaths_columns = ['continent', 'total_deaths']\n",
        "deaths_data = deaths_df[deaths_columns]\n",
        "\n",
        "deaths_data = deaths_data.dropna(subset=['total_deaths'])\n",
        "\n",
        "total_deaths_by_continent = deaths_data.groupby('continent')['total_deaths'].sum()\n",
        "\n",
        "most_affected_continent = total_deaths_by_continent.idxmax()\n",
        "total_deaths_most_affected = total_deaths_by_continent.max()\n",
        "\n",
        "print(f\"O continente mais afetado: {most_affected_continent}\")\n",
        "print(f\"Total de mortes naquele continente: {total_deaths_most_affected}\")"
      ],
      "metadata": {
        "colab": {
          "base_uri": "https://localhost:8080/"
        },
        "id": "aNLMoZwTUKU6",
        "outputId": "e29f9f10-f2e0-4eef-f0a9-4f690b20a351"
      },
      "execution_count": 13,
      "outputs": [
        {
          "output_type": "stream",
          "name": "stdout",
          "text": [
            "O continente mais afetado: Europe\n",
            "Total de mortes naquele continente: 1343025987.0\n"
          ]
        }
      ]
    }
  ]
}